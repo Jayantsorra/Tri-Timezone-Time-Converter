{
 "cells": [
  {
   "cell_type": "code",
   "execution_count": 5,
   "id": "cbb6d179-ef46-45ea-acfd-668d749bc793",
   "metadata": {},
   "outputs": [
    {
     "name": "stdout",
     "output_type": "stream",
     "text": [
      "Input Time (UTC): 2024-04-13 12:44:06 \n",
      "Converted Time (America/New_York): 2024-04-13 08:44:06 EDT-0400\n",
      "Converted Time (Europe/London): 2024-04-13 13:44:06 BST+0100\n",
      "Converted Time (Asia/Tokyo): 2024-04-13 21:44:06 JST+0900\n"
     ]
    }
   ],
   "source": [
    "import pytz\n",
    "from datetime import datetime\n",
    "\n",
    "def convert_time(input_time, input_timezone, output_timezones):\n",
    "    input_timezone = pytz.timezone(input_timezone)\n",
    "    input_time = input_timezone.localize(input_time)\n",
    "    converted_times = {}\n",
    "    for timezone in output_timezones:\n",
    "        output_timezone = pytz.timezone(timezone)\n",
    "        converted_time = input_time.astimezone(output_timezone)\n",
    "        converted_times[timezone] = converted_time.strftime(\"%Y-%m-%d %H:%M:%S %Z%z\")\n",
    "    return converted_times\n",
    "\n",
    "if __name__ == \"__main__\":\n",
    "    # Example usage\n",
    "    input_time = datetime.now()\n",
    "    input_timezone = \"UTC\"  # You can change this to the time zone of the input country\n",
    "    output_timezones = [\"America/New_York\", \"Europe/London\", \"Asia/Tokyo\"]  # Example output time zones\n",
    "\n",
    "    converted_times = convert_time(input_time, input_timezone, output_timezones)\n",
    "    print(f\"Input Time ({input_timezone}): {input_time.strftime('%Y-%m-%d %H:%M:%S %Z%z')}\")\n",
    "    for timezone, time in converted_times.items():\n",
    "        print(f\"Converted Time ({timezone}): {time}\")\n"
   ]
  },
  {
   "cell_type": "code",
   "execution_count": null,
   "id": "8051e882-7413-44d3-a15a-b15550192b90",
   "metadata": {},
   "outputs": [],
   "source": []
  }
 ],
 "metadata": {
  "kernelspec": {
   "display_name": "Python 3 (ipykernel)",
   "language": "python",
   "name": "python3"
  },
  "language_info": {
   "codemirror_mode": {
    "name": "ipython",
    "version": 3
   },
   "file_extension": ".py",
   "mimetype": "text/x-python",
   "name": "python",
   "nbconvert_exporter": "python",
   "pygments_lexer": "ipython3",
   "version": "3.11.7"
  }
 },
 "nbformat": 4,
 "nbformat_minor": 5
}
